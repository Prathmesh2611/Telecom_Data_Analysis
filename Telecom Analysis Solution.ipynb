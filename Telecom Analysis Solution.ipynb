{
 "cells": [
  {
   "cell_type": "markdown",
   "metadata": {},
   "source": [
    "- Name - Prathmesh Bhimraj Bhukele\n",
    "- Contact no. 8291159068\n",
    "- Prathmeshbb26@gmail.com"
   ]
  },
  {
   "cell_type": "markdown",
   "metadata": {},
   "source": [
    "## Exploring the Dataset"
   ]
  },
  {
   "cell_type": "code",
   "execution_count": 1,
   "metadata": {},
   "outputs": [],
   "source": [
    "import pandas as pd \n",
    "import numpy as np "
   ]
  },
  {
   "cell_type": "code",
   "execution_count": 2,
   "metadata": {},
   "outputs": [],
   "source": [
    "# loading the \"Data\" Dataset\n",
    "data = pd.read_csv(\"DA_data.csv\")"
   ]
  },
  {
   "cell_type": "code",
   "execution_count": 3,
   "metadata": {},
   "outputs": [
    {
     "data": {
      "text/html": [
       "<div>\n",
       "<style scoped>\n",
       "    .dataframe tbody tr th:only-of-type {\n",
       "        vertical-align: middle;\n",
       "    }\n",
       "\n",
       "    .dataframe tbody tr th {\n",
       "        vertical-align: top;\n",
       "    }\n",
       "\n",
       "    .dataframe thead th {\n",
       "        text-align: right;\n",
       "    }\n",
       "</style>\n",
       "<table border=\"1\" class=\"dataframe\">\n",
       "  <thead>\n",
       "    <tr style=\"text-align: right;\">\n",
       "      <th></th>\n",
       "      <th>Customer_ID</th>\n",
       "      <th>Weeks</th>\n",
       "      <th>Contract_Renewal</th>\n",
       "      <th>Data_Plan</th>\n",
       "      <th>Data_Usage</th>\n",
       "      <th>Calls_To_Customer_Care</th>\n",
       "      <th>DayMins</th>\n",
       "      <th>DayCalls</th>\n",
       "      <th>MonthlyCharge</th>\n",
       "      <th>OverageFee</th>\n",
       "      <th>RoamMins</th>\n",
       "      <th>Customer_Attrition</th>\n",
       "      <th>Inserted_Date</th>\n",
       "    </tr>\n",
       "  </thead>\n",
       "  <tbody>\n",
       "    <tr>\n",
       "      <th>0</th>\n",
       "      <td>1001</td>\n",
       "      <td>47</td>\n",
       "      <td>1</td>\n",
       "      <td>Yes</td>\n",
       "      <td>2.3</td>\n",
       "      <td>1</td>\n",
       "      <td>128.2</td>\n",
       "      <td>97</td>\n",
       "      <td>34.2</td>\n",
       "      <td>10.00</td>\n",
       "      <td>9.1</td>\n",
       "      <td>No</td>\n",
       "      <td>16-05-2022</td>\n",
       "    </tr>\n",
       "    <tr>\n",
       "      <th>1</th>\n",
       "      <td>1002</td>\n",
       "      <td>30</td>\n",
       "      <td>1</td>\n",
       "      <td>No</td>\n",
       "      <td>0.0</td>\n",
       "      <td>2</td>\n",
       "      <td>210.5</td>\n",
       "      <td>105</td>\n",
       "      <td>55.3</td>\n",
       "      <td>15.50</td>\n",
       "      <td>0.0</td>\n",
       "      <td>Yes</td>\n",
       "      <td>16-05-2022</td>\n",
       "    </tr>\n",
       "    <tr>\n",
       "      <th>2</th>\n",
       "      <td>1003</td>\n",
       "      <td>52</td>\n",
       "      <td>0</td>\n",
       "      <td>Yes</td>\n",
       "      <td>4.1</td>\n",
       "      <td>0</td>\n",
       "      <td>221.7</td>\n",
       "      <td>120</td>\n",
       "      <td>70.5</td>\n",
       "      <td>9.75</td>\n",
       "      <td>0.0</td>\n",
       "      <td>No</td>\n",
       "      <td>16-05-2022</td>\n",
       "    </tr>\n",
       "    <tr>\n",
       "      <th>3</th>\n",
       "      <td>1004</td>\n",
       "      <td>25</td>\n",
       "      <td>1</td>\n",
       "      <td>No</td>\n",
       "      <td>0.0</td>\n",
       "      <td>4</td>\n",
       "      <td>183.6</td>\n",
       "      <td>97</td>\n",
       "      <td>52.7</td>\n",
       "      <td>17.00</td>\n",
       "      <td>10.0</td>\n",
       "      <td>Yes</td>\n",
       "      <td>16-05-2022</td>\n",
       "    </tr>\n",
       "    <tr>\n",
       "      <th>4</th>\n",
       "      <td>1005</td>\n",
       "      <td>38</td>\n",
       "      <td>1</td>\n",
       "      <td>Yes</td>\n",
       "      <td>2.6</td>\n",
       "      <td>1</td>\n",
       "      <td>110.7</td>\n",
       "      <td>112</td>\n",
       "      <td>32.2</td>\n",
       "      <td>10.50</td>\n",
       "      <td>3.3</td>\n",
       "      <td>No</td>\n",
       "      <td>16-05-2022</td>\n",
       "    </tr>\n",
       "  </tbody>\n",
       "</table>\n",
       "</div>"
      ],
      "text/plain": [
       "   Customer_ID  Weeks  Contract_Renewal Data_Plan  Data_Usage  \\\n",
       "0         1001     47                 1       Yes         2.3   \n",
       "1         1002     30                 1        No         0.0   \n",
       "2         1003     52                 0       Yes         4.1   \n",
       "3         1004     25                 1        No         0.0   \n",
       "4         1005     38                 1       Yes         2.6   \n",
       "\n",
       "   Calls_To_Customer_Care  DayMins  DayCalls  MonthlyCharge  OverageFee  \\\n",
       "0                       1    128.2        97           34.2       10.00   \n",
       "1                       2    210.5       105           55.3       15.50   \n",
       "2                       0    221.7       120           70.5        9.75   \n",
       "3                       4    183.6        97           52.7       17.00   \n",
       "4                       1    110.7       112           32.2       10.50   \n",
       "\n",
       "   RoamMins Customer_Attrition Inserted_Date  \n",
       "0       9.1                 No    16-05-2022  \n",
       "1       0.0                Yes    16-05-2022  \n",
       "2       0.0                 No    16-05-2022  \n",
       "3      10.0                Yes    16-05-2022  \n",
       "4       3.3                 No    16-05-2022  "
      ]
     },
     "execution_count": 3,
     "metadata": {},
     "output_type": "execute_result"
    }
   ],
   "source": [
    "data.head()"
   ]
  },
  {
   "cell_type": "code",
   "execution_count": 4,
   "metadata": {},
   "outputs": [
    {
     "name": "stdout",
     "output_type": "stream",
     "text": [
      "<class 'pandas.core.frame.DataFrame'>\n",
      "RangeIndex: 134 entries, 0 to 133\n",
      "Data columns (total 13 columns):\n",
      " #   Column                  Non-Null Count  Dtype  \n",
      "---  ------                  --------------  -----  \n",
      " 0   Customer_ID             134 non-null    int64  \n",
      " 1   Weeks                   134 non-null    int64  \n",
      " 2   Contract_Renewal        134 non-null    int64  \n",
      " 3   Data_Plan               134 non-null    object \n",
      " 4   Data_Usage              134 non-null    float64\n",
      " 5   Calls_To_Customer_Care  134 non-null    int64  \n",
      " 6   DayMins                 134 non-null    float64\n",
      " 7   DayCalls                134 non-null    int64  \n",
      " 8   MonthlyCharge           133 non-null    float64\n",
      " 9   OverageFee              134 non-null    float64\n",
      " 10  RoamMins                134 non-null    float64\n",
      " 11  Customer_Attrition      134 non-null    object \n",
      " 12  Inserted_Date           134 non-null    object \n",
      "dtypes: float64(5), int64(5), object(3)\n",
      "memory usage: 13.7+ KB\n"
     ]
    }
   ],
   "source": [
    "data.info()"
   ]
  },
  {
   "cell_type": "code",
   "execution_count": 5,
   "metadata": {},
   "outputs": [
    {
     "data": {
      "text/html": [
       "<div>\n",
       "<style scoped>\n",
       "    .dataframe tbody tr th:only-of-type {\n",
       "        vertical-align: middle;\n",
       "    }\n",
       "\n",
       "    .dataframe tbody tr th {\n",
       "        vertical-align: top;\n",
       "    }\n",
       "\n",
       "    .dataframe thead th {\n",
       "        text-align: right;\n",
       "    }\n",
       "</style>\n",
       "<table border=\"1\" class=\"dataframe\">\n",
       "  <thead>\n",
       "    <tr style=\"text-align: right;\">\n",
       "      <th></th>\n",
       "      <th>Customer_ID</th>\n",
       "      <th>Weeks</th>\n",
       "      <th>Contract_Renewal</th>\n",
       "      <th>Data_Plan</th>\n",
       "      <th>Data_Usage</th>\n",
       "      <th>Calls_To_Customer_Care</th>\n",
       "      <th>DayMins</th>\n",
       "      <th>DayCalls</th>\n",
       "      <th>MonthlyCharge</th>\n",
       "      <th>OverageFee</th>\n",
       "      <th>RoamMins</th>\n",
       "      <th>Customer_Attrition</th>\n",
       "      <th>Inserted_Date</th>\n",
       "    </tr>\n",
       "  </thead>\n",
       "  <tbody>\n",
       "    <tr>\n",
       "      <th>0</th>\n",
       "      <td>False</td>\n",
       "      <td>False</td>\n",
       "      <td>False</td>\n",
       "      <td>False</td>\n",
       "      <td>False</td>\n",
       "      <td>False</td>\n",
       "      <td>False</td>\n",
       "      <td>False</td>\n",
       "      <td>False</td>\n",
       "      <td>False</td>\n",
       "      <td>False</td>\n",
       "      <td>False</td>\n",
       "      <td>False</td>\n",
       "    </tr>\n",
       "    <tr>\n",
       "      <th>1</th>\n",
       "      <td>False</td>\n",
       "      <td>False</td>\n",
       "      <td>False</td>\n",
       "      <td>False</td>\n",
       "      <td>False</td>\n",
       "      <td>False</td>\n",
       "      <td>False</td>\n",
       "      <td>False</td>\n",
       "      <td>False</td>\n",
       "      <td>False</td>\n",
       "      <td>False</td>\n",
       "      <td>False</td>\n",
       "      <td>False</td>\n",
       "    </tr>\n",
       "    <tr>\n",
       "      <th>2</th>\n",
       "      <td>False</td>\n",
       "      <td>False</td>\n",
       "      <td>False</td>\n",
       "      <td>False</td>\n",
       "      <td>False</td>\n",
       "      <td>False</td>\n",
       "      <td>False</td>\n",
       "      <td>False</td>\n",
       "      <td>False</td>\n",
       "      <td>False</td>\n",
       "      <td>False</td>\n",
       "      <td>False</td>\n",
       "      <td>False</td>\n",
       "    </tr>\n",
       "    <tr>\n",
       "      <th>3</th>\n",
       "      <td>False</td>\n",
       "      <td>False</td>\n",
       "      <td>False</td>\n",
       "      <td>False</td>\n",
       "      <td>False</td>\n",
       "      <td>False</td>\n",
       "      <td>False</td>\n",
       "      <td>False</td>\n",
       "      <td>False</td>\n",
       "      <td>False</td>\n",
       "      <td>False</td>\n",
       "      <td>False</td>\n",
       "      <td>False</td>\n",
       "    </tr>\n",
       "    <tr>\n",
       "      <th>4</th>\n",
       "      <td>False</td>\n",
       "      <td>False</td>\n",
       "      <td>False</td>\n",
       "      <td>False</td>\n",
       "      <td>False</td>\n",
       "      <td>False</td>\n",
       "      <td>False</td>\n",
       "      <td>False</td>\n",
       "      <td>False</td>\n",
       "      <td>False</td>\n",
       "      <td>False</td>\n",
       "      <td>False</td>\n",
       "      <td>False</td>\n",
       "    </tr>\n",
       "    <tr>\n",
       "      <th>...</th>\n",
       "      <td>...</td>\n",
       "      <td>...</td>\n",
       "      <td>...</td>\n",
       "      <td>...</td>\n",
       "      <td>...</td>\n",
       "      <td>...</td>\n",
       "      <td>...</td>\n",
       "      <td>...</td>\n",
       "      <td>...</td>\n",
       "      <td>...</td>\n",
       "      <td>...</td>\n",
       "      <td>...</td>\n",
       "      <td>...</td>\n",
       "    </tr>\n",
       "    <tr>\n",
       "      <th>129</th>\n",
       "      <td>False</td>\n",
       "      <td>False</td>\n",
       "      <td>False</td>\n",
       "      <td>False</td>\n",
       "      <td>False</td>\n",
       "      <td>False</td>\n",
       "      <td>False</td>\n",
       "      <td>False</td>\n",
       "      <td>False</td>\n",
       "      <td>False</td>\n",
       "      <td>False</td>\n",
       "      <td>False</td>\n",
       "      <td>False</td>\n",
       "    </tr>\n",
       "    <tr>\n",
       "      <th>130</th>\n",
       "      <td>False</td>\n",
       "      <td>False</td>\n",
       "      <td>False</td>\n",
       "      <td>False</td>\n",
       "      <td>False</td>\n",
       "      <td>False</td>\n",
       "      <td>False</td>\n",
       "      <td>False</td>\n",
       "      <td>False</td>\n",
       "      <td>False</td>\n",
       "      <td>False</td>\n",
       "      <td>False</td>\n",
       "      <td>False</td>\n",
       "    </tr>\n",
       "    <tr>\n",
       "      <th>131</th>\n",
       "      <td>False</td>\n",
       "      <td>False</td>\n",
       "      <td>False</td>\n",
       "      <td>False</td>\n",
       "      <td>False</td>\n",
       "      <td>False</td>\n",
       "      <td>False</td>\n",
       "      <td>False</td>\n",
       "      <td>False</td>\n",
       "      <td>False</td>\n",
       "      <td>False</td>\n",
       "      <td>False</td>\n",
       "      <td>False</td>\n",
       "    </tr>\n",
       "    <tr>\n",
       "      <th>132</th>\n",
       "      <td>False</td>\n",
       "      <td>False</td>\n",
       "      <td>False</td>\n",
       "      <td>False</td>\n",
       "      <td>False</td>\n",
       "      <td>False</td>\n",
       "      <td>False</td>\n",
       "      <td>False</td>\n",
       "      <td>False</td>\n",
       "      <td>False</td>\n",
       "      <td>False</td>\n",
       "      <td>False</td>\n",
       "      <td>False</td>\n",
       "    </tr>\n",
       "    <tr>\n",
       "      <th>133</th>\n",
       "      <td>False</td>\n",
       "      <td>False</td>\n",
       "      <td>False</td>\n",
       "      <td>False</td>\n",
       "      <td>False</td>\n",
       "      <td>False</td>\n",
       "      <td>False</td>\n",
       "      <td>False</td>\n",
       "      <td>False</td>\n",
       "      <td>False</td>\n",
       "      <td>False</td>\n",
       "      <td>False</td>\n",
       "      <td>False</td>\n",
       "    </tr>\n",
       "  </tbody>\n",
       "</table>\n",
       "<p>134 rows × 13 columns</p>\n",
       "</div>"
      ],
      "text/plain": [
       "     Customer_ID  Weeks  Contract_Renewal  Data_Plan  Data_Usage  \\\n",
       "0          False  False             False      False       False   \n",
       "1          False  False             False      False       False   \n",
       "2          False  False             False      False       False   \n",
       "3          False  False             False      False       False   \n",
       "4          False  False             False      False       False   \n",
       "..           ...    ...               ...        ...         ...   \n",
       "129        False  False             False      False       False   \n",
       "130        False  False             False      False       False   \n",
       "131        False  False             False      False       False   \n",
       "132        False  False             False      False       False   \n",
       "133        False  False             False      False       False   \n",
       "\n",
       "     Calls_To_Customer_Care  DayMins  DayCalls  MonthlyCharge  OverageFee  \\\n",
       "0                     False    False     False          False       False   \n",
       "1                     False    False     False          False       False   \n",
       "2                     False    False     False          False       False   \n",
       "3                     False    False     False          False       False   \n",
       "4                     False    False     False          False       False   \n",
       "..                      ...      ...       ...            ...         ...   \n",
       "129                   False    False     False          False       False   \n",
       "130                   False    False     False          False       False   \n",
       "131                   False    False     False          False       False   \n",
       "132                   False    False     False          False       False   \n",
       "133                   False    False     False          False       False   \n",
       "\n",
       "     RoamMins  Customer_Attrition  Inserted_Date  \n",
       "0       False               False          False  \n",
       "1       False               False          False  \n",
       "2       False               False          False  \n",
       "3       False               False          False  \n",
       "4       False               False          False  \n",
       "..        ...                 ...            ...  \n",
       "129     False               False          False  \n",
       "130     False               False          False  \n",
       "131     False               False          False  \n",
       "132     False               False          False  \n",
       "133     False               False          False  \n",
       "\n",
       "[134 rows x 13 columns]"
      ]
     },
     "execution_count": 5,
     "metadata": {},
     "output_type": "execute_result"
    }
   ],
   "source": [
    "data.isnull()"
   ]
  },
  {
   "cell_type": "code",
   "execution_count": 6,
   "metadata": {},
   "outputs": [
    {
     "data": {
      "text/plain": [
       "(134, 13)"
      ]
     },
     "execution_count": 6,
     "metadata": {},
     "output_type": "execute_result"
    }
   ],
   "source": [
    "data.shape"
   ]
  },
  {
   "cell_type": "code",
   "execution_count": 7,
   "metadata": {},
   "outputs": [
    {
     "data": {
      "text/plain": [
       "1742"
      ]
     },
     "execution_count": 7,
     "metadata": {},
     "output_type": "execute_result"
    }
   ],
   "source": [
    "data.size"
   ]
  },
  {
   "cell_type": "code",
   "execution_count": 8,
   "metadata": {},
   "outputs": [
    {
     "data": {
      "text/html": [
       "<div>\n",
       "<style scoped>\n",
       "    .dataframe tbody tr th:only-of-type {\n",
       "        vertical-align: middle;\n",
       "    }\n",
       "\n",
       "    .dataframe tbody tr th {\n",
       "        vertical-align: top;\n",
       "    }\n",
       "\n",
       "    .dataframe thead th {\n",
       "        text-align: right;\n",
       "    }\n",
       "</style>\n",
       "<table border=\"1\" class=\"dataframe\">\n",
       "  <thead>\n",
       "    <tr style=\"text-align: right;\">\n",
       "      <th></th>\n",
       "      <th>Customer_ID</th>\n",
       "      <th>Weeks</th>\n",
       "      <th>Contract_Renewal</th>\n",
       "      <th>Data_Usage</th>\n",
       "      <th>Calls_To_Customer_Care</th>\n",
       "      <th>DayMins</th>\n",
       "      <th>DayCalls</th>\n",
       "      <th>MonthlyCharge</th>\n",
       "      <th>OverageFee</th>\n",
       "      <th>RoamMins</th>\n",
       "    </tr>\n",
       "  </thead>\n",
       "  <tbody>\n",
       "    <tr>\n",
       "      <th>count</th>\n",
       "      <td>134.000000</td>\n",
       "      <td>134.000000</td>\n",
       "      <td>134.000000</td>\n",
       "      <td>134.000000</td>\n",
       "      <td>134.000000</td>\n",
       "      <td>134.000000</td>\n",
       "      <td>134.000000</td>\n",
       "      <td>133.000000</td>\n",
       "      <td>134.000000</td>\n",
       "      <td>134.000000</td>\n",
       "    </tr>\n",
       "    <tr>\n",
       "      <th>mean</th>\n",
       "      <td>1066.902985</td>\n",
       "      <td>47.007463</td>\n",
       "      <td>0.925373</td>\n",
       "      <td>2.085821</td>\n",
       "      <td>1.417910</td>\n",
       "      <td>191.395522</td>\n",
       "      <td>100.611940</td>\n",
       "      <td>59.697744</td>\n",
       "      <td>10.440299</td>\n",
       "      <td>8.326119</td>\n",
       "    </tr>\n",
       "    <tr>\n",
       "      <th>std</th>\n",
       "      <td>37.960183</td>\n",
       "      <td>8.867866</td>\n",
       "      <td>0.263774</td>\n",
       "      <td>0.992994</td>\n",
       "      <td>1.042687</td>\n",
       "      <td>29.983501</td>\n",
       "      <td>11.699824</td>\n",
       "      <td>10.593120</td>\n",
       "      <td>1.469994</td>\n",
       "      <td>3.663043</td>\n",
       "    </tr>\n",
       "    <tr>\n",
       "      <th>min</th>\n",
       "      <td>1001.000000</td>\n",
       "      <td>24.000000</td>\n",
       "      <td>0.000000</td>\n",
       "      <td>0.000000</td>\n",
       "      <td>0.000000</td>\n",
       "      <td>110.700000</td>\n",
       "      <td>75.000000</td>\n",
       "      <td>29.800000</td>\n",
       "      <td>6.000000</td>\n",
       "      <td>0.000000</td>\n",
       "    </tr>\n",
       "    <tr>\n",
       "      <th>25%</th>\n",
       "      <td>1034.250000</td>\n",
       "      <td>42.000000</td>\n",
       "      <td>1.000000</td>\n",
       "      <td>1.800000</td>\n",
       "      <td>1.000000</td>\n",
       "      <td>173.300000</td>\n",
       "      <td>94.000000</td>\n",
       "      <td>52.700000</td>\n",
       "      <td>9.750000</td>\n",
       "      <td>7.525000</td>\n",
       "    </tr>\n",
       "    <tr>\n",
       "      <th>50%</th>\n",
       "      <td>1067.500000</td>\n",
       "      <td>50.000000</td>\n",
       "      <td>1.000000</td>\n",
       "      <td>2.250000</td>\n",
       "      <td>1.000000</td>\n",
       "      <td>192.350000</td>\n",
       "      <td>100.000000</td>\n",
       "      <td>60.600000</td>\n",
       "      <td>10.250000</td>\n",
       "      <td>9.300000</td>\n",
       "    </tr>\n",
       "    <tr>\n",
       "      <th>75%</th>\n",
       "      <td>1100.750000</td>\n",
       "      <td>53.000000</td>\n",
       "      <td>1.000000</td>\n",
       "      <td>2.675000</td>\n",
       "      <td>2.000000</td>\n",
       "      <td>212.900000</td>\n",
       "      <td>110.000000</td>\n",
       "      <td>68.400000</td>\n",
       "      <td>10.750000</td>\n",
       "      <td>10.675000</td>\n",
       "    </tr>\n",
       "    <tr>\n",
       "      <th>max</th>\n",
       "      <td>1130.000000</td>\n",
       "      <td>64.000000</td>\n",
       "      <td>1.000000</td>\n",
       "      <td>4.200000</td>\n",
       "      <td>4.000000</td>\n",
       "      <td>273.300000</td>\n",
       "      <td>126.000000</td>\n",
       "      <td>87.100000</td>\n",
       "      <td>17.000000</td>\n",
       "      <td>13.400000</td>\n",
       "    </tr>\n",
       "  </tbody>\n",
       "</table>\n",
       "</div>"
      ],
      "text/plain": [
       "       Customer_ID       Weeks  Contract_Renewal  Data_Usage  \\\n",
       "count   134.000000  134.000000        134.000000  134.000000   \n",
       "mean   1066.902985   47.007463          0.925373    2.085821   \n",
       "std      37.960183    8.867866          0.263774    0.992994   \n",
       "min    1001.000000   24.000000          0.000000    0.000000   \n",
       "25%    1034.250000   42.000000          1.000000    1.800000   \n",
       "50%    1067.500000   50.000000          1.000000    2.250000   \n",
       "75%    1100.750000   53.000000          1.000000    2.675000   \n",
       "max    1130.000000   64.000000          1.000000    4.200000   \n",
       "\n",
       "       Calls_To_Customer_Care     DayMins    DayCalls  MonthlyCharge  \\\n",
       "count              134.000000  134.000000  134.000000     133.000000   \n",
       "mean                 1.417910  191.395522  100.611940      59.697744   \n",
       "std                  1.042687   29.983501   11.699824      10.593120   \n",
       "min                  0.000000  110.700000   75.000000      29.800000   \n",
       "25%                  1.000000  173.300000   94.000000      52.700000   \n",
       "50%                  1.000000  192.350000  100.000000      60.600000   \n",
       "75%                  2.000000  212.900000  110.000000      68.400000   \n",
       "max                  4.000000  273.300000  126.000000      87.100000   \n",
       "\n",
       "       OverageFee    RoamMins  \n",
       "count  134.000000  134.000000  \n",
       "mean    10.440299    8.326119  \n",
       "std      1.469994    3.663043  \n",
       "min      6.000000    0.000000  \n",
       "25%      9.750000    7.525000  \n",
       "50%     10.250000    9.300000  \n",
       "75%     10.750000   10.675000  \n",
       "max     17.000000   13.400000  "
      ]
     },
     "execution_count": 8,
     "metadata": {},
     "output_type": "execute_result"
    }
   ],
   "source": [
    "data.describe()"
   ]
  },
  {
   "cell_type": "code",
   "execution_count": 9,
   "metadata": {},
   "outputs": [
    {
     "data": {
      "text/plain": [
       "Customer_ID               0\n",
       "Weeks                     0\n",
       "Contract_Renewal          0\n",
       "Data_Plan                 0\n",
       "Data_Usage                0\n",
       "Calls_To_Customer_Care    0\n",
       "DayMins                   0\n",
       "DayCalls                  0\n",
       "MonthlyCharge             1\n",
       "OverageFee                0\n",
       "RoamMins                  0\n",
       "Customer_Attrition        0\n",
       "Inserted_Date             0\n",
       "dtype: int64"
      ]
     },
     "execution_count": 9,
     "metadata": {},
     "output_type": "execute_result"
    }
   ],
   "source": [
    "data.isnull().sum()"
   ]
  },
  {
   "cell_type": "markdown",
   "metadata": {},
   "source": [
    "## Data cleaning\n",
    "1. Removed the duplicated values \n",
    "2. Imputed the missing values in Monthlychange & Overagefee using mean values\n",
    "3. Converted the type of Inserted_date from int to Datetime format.\n",
    "4. Changed the datatype of Date_plan , Contract_Renewal, Customer_Attrition from object to boolean .\n",
    "5. Changed the datatype of Data_Usage , Calls_To_Customer_Care , OverageFee , MonthlyCharge to numeric format."
   ]
  },
  {
   "cell_type": "code",
   "execution_count": 10,
   "metadata": {},
   "outputs": [],
   "source": [
    "# Removing duplicates\n",
    "data = data.drop_duplicates()"
   ]
  },
  {
   "cell_type": "code",
   "execution_count": 11,
   "metadata": {},
   "outputs": [
    {
     "data": {
      "text/plain": [
       "(130, 13)"
      ]
     },
     "execution_count": 11,
     "metadata": {},
     "output_type": "execute_result"
    }
   ],
   "source": [
    "data.shape"
   ]
  },
  {
   "cell_type": "code",
   "execution_count": 12,
   "metadata": {},
   "outputs": [],
   "source": [
    "data['MonthlyCharge'].fillna(data['MonthlyCharge'].mean(), inplace=True)"
   ]
  },
  {
   "cell_type": "code",
   "execution_count": null,
   "metadata": {},
   "outputs": [],
   "source": [
    "data['Inserted_Date'] = pd.to_datetime(data['Inserted_Date'], errors='coerce')"
   ]
  },
  {
   "cell_type": "code",
   "execution_count": 14,
   "metadata": {},
   "outputs": [],
   "source": [
    "data['Data_Plan'] = data['Data_Plan'].map({'Yes': True, 'No': False})"
   ]
  },
  {
   "cell_type": "code",
   "execution_count": 15,
   "metadata": {},
   "outputs": [],
   "source": [
    "data['Customer_Attrition'] = data['Customer_Attrition'].map({'Yes': True, 'No': False})"
   ]
  },
  {
   "cell_type": "code",
   "execution_count": 16,
   "metadata": {},
   "outputs": [],
   "source": [
    "data['Data_Usage'] = pd.to_numeric(data['Data_Usage'])  "
   ]
  },
  {
   "cell_type": "code",
   "execution_count": 17,
   "metadata": {},
   "outputs": [],
   "source": [
    "data['Calls_To_Customer_Care'] = pd.to_numeric(data['Calls_To_Customer_Care'])"
   ]
  },
  {
   "cell_type": "code",
   "execution_count": 18,
   "metadata": {},
   "outputs": [],
   "source": [
    "data['OverageFee'] = pd.to_numeric(data['OverageFee'])\n",
    "data['MonthlyCharge'] = pd.to_numeric(data['MonthlyCharge'])"
   ]
  },
  {
   "cell_type": "code",
   "execution_count": 19,
   "metadata": {},
   "outputs": [],
   "source": [
    "data['Contract_Renewal'] = data['Contract_Renewal'].map({1: True, 0: False})"
   ]
  },
  {
   "cell_type": "code",
   "execution_count": 20,
   "metadata": {},
   "outputs": [
    {
     "data": {
      "text/plain": [
       "(130, 13)"
      ]
     },
     "execution_count": 20,
     "metadata": {},
     "output_type": "execute_result"
    }
   ],
   "source": [
    "data.shape"
   ]
  },
  {
   "cell_type": "code",
   "execution_count": 21,
   "metadata": {},
   "outputs": [
    {
     "name": "stdout",
     "output_type": "stream",
     "text": [
      "<class 'pandas.core.frame.DataFrame'>\n",
      "Index: 130 entries, 0 to 133\n",
      "Data columns (total 13 columns):\n",
      " #   Column                  Non-Null Count  Dtype         \n",
      "---  ------                  --------------  -----         \n",
      " 0   Customer_ID             130 non-null    int64         \n",
      " 1   Weeks                   130 non-null    int64         \n",
      " 2   Contract_Renewal        130 non-null    bool          \n",
      " 3   Data_Plan               130 non-null    bool          \n",
      " 4   Data_Usage              130 non-null    float64       \n",
      " 5   Calls_To_Customer_Care  130 non-null    int64         \n",
      " 6   DayMins                 130 non-null    float64       \n",
      " 7   DayCalls                130 non-null    int64         \n",
      " 8   MonthlyCharge           130 non-null    float64       \n",
      " 9   OverageFee              130 non-null    float64       \n",
      " 10  RoamMins                130 non-null    float64       \n",
      " 11  Customer_Attrition      130 non-null    bool          \n",
      " 12  Inserted_Date           130 non-null    datetime64[ns]\n",
      "dtypes: bool(3), datetime64[ns](1), float64(5), int64(4)\n",
      "memory usage: 11.6 KB\n"
     ]
    }
   ],
   "source": [
    "data.info()"
   ]
  },
  {
   "cell_type": "markdown",
   "metadata": {},
   "source": [
    "## Solutions "
   ]
  },
  {
   "cell_type": "markdown",
   "metadata": {},
   "source": [
    "##### 1. What is the correlation between the number of calls to customer care and customer attrition?"
   ]
  },
  {
   "cell_type": "code",
   "execution_count": 22,
   "metadata": {},
   "outputs": [
    {
     "name": "stdout",
     "output_type": "stream",
     "text": [
      "Correlation between calls to customer care and customer attrition: 0.17755811850077777\n"
     ]
    }
   ],
   "source": [
    "correlation_calls_attrition = data['Calls_To_Customer_Care'].corr(data['Customer_Attrition'])\n",
    "print(\"Correlation between calls to customer care and customer attrition:\", correlation_calls_attrition)"
   ]
  },
  {
   "cell_type": "markdown",
   "metadata": {},
   "source": [
    "- <span style=\"color:Green\">  The correlation between calls to customer care and customer attritions is 0.17 which shows a weak positive correlation. </span>"
   ]
  },
  {
   "cell_type": "markdown",
   "metadata": {},
   "source": [
    "##### 2. Which data plan (Yes or No) has a higher average monthly charge?"
   ]
  },
  {
   "cell_type": "code",
   "execution_count": 23,
   "metadata": {},
   "outputs": [
    {
     "name": "stdout",
     "output_type": "stream",
     "text": [
      "Data plan with higher average monthly charge: True\n"
     ]
    }
   ],
   "source": [
    "average_monthly_charge_by_plan = data.groupby('Data_Plan')['MonthlyCharge'].mean()\n",
    "higher_average_monthly_charge_plan = average_monthly_charge_by_plan.idxmax()\n",
    "print(\"Data plan with higher average monthly charge:\", higher_average_monthly_charge_plan)"
   ]
  },
  {
   "cell_type": "markdown",
   "metadata": {},
   "source": [
    "- <span style=\"color:Green\">  \"True\" indicates that Customers with a data plan ('Yes') have a higher average monthly charge. </span>"
   ]
  },
  {
   "cell_type": "markdown",
   "metadata": {},
   "source": [
    "##### 3. Is there any correlation between customer attrition and contract renewal?"
   ]
  },
  {
   "cell_type": "code",
   "execution_count": 24,
   "metadata": {},
   "outputs": [
    {
     "name": "stdout",
     "output_type": "stream",
     "text": [
      "Correlation between customer attrition and contract renewal: -0.15144803708370724\n"
     ]
    }
   ],
   "source": [
    "correlation_attrition_renewal = data['Customer_Attrition'].corr(data['Contract_Renewal'])\n",
    "print(\"Correlation between customer attrition and contract renewal:\", correlation_attrition_renewal)"
   ]
  },
  {
   "cell_type": "markdown",
   "metadata": {},
   "source": [
    "- <span style=\"color:Green\">  The correlation coefficient of approximately -0.1514 between customer attrition and contract renewal suggests a weak negative correlation </span>"
   ]
  },
  {
   "cell_type": "markdown",
   "metadata": {},
   "source": [
    "##### 4. Which feature(s) have the highest correlation with customer attrition?"
   ]
  },
  {
   "cell_type": "code",
   "execution_count": 25,
   "metadata": {},
   "outputs": [
    {
     "name": "stdout",
     "output_type": "stream",
     "text": [
      "Feature(s) with highest correlation with customer attrition:\n",
      " Customer_Attrition    1.000000\n",
      "OverageFee            0.318281\n",
      "Name: Customer_Attrition, dtype: float64\n"
     ]
    }
   ],
   "source": [
    "correlation_matrix = data.corr()\n",
    "highest_correlation_with_attrition = correlation_matrix['Customer_Attrition'].sort_values(ascending=False).head(2)\n",
    "print(\"Feature(s) with highest correlation with customer attrition:\\n\", highest_correlation_with_attrition)"
   ]
  },
  {
   "cell_type": "markdown",
   "metadata": {},
   "source": [
    "- <span style=\"color:Green\">  The feature with the highest correlation coefficient with customer attrition is 'OverageFee' with a correlation coefficient of approximately 0.318. </span>"
   ]
  },
  {
   "cell_type": "markdown",
   "metadata": {},
   "source": [
    "##### 5. Is there a difference in data usage between customers who have a data plan and those who do not?"
   ]
  },
  {
   "cell_type": "code",
   "execution_count": 26,
   "metadata": {},
   "outputs": [
    {
     "name": "stdout",
     "output_type": "stream",
     "text": [
      "Difference in data usage between customers with and without a data plan:\n",
      " Data_Plan\n",
      "False    0.000000\n",
      "True     2.398214\n",
      "Name: Data_Usage, dtype: float64\n"
     ]
    }
   ],
   "source": [
    "data_usage_difference = data.groupby('Data_Plan')['Data_Usage'].mean()\n",
    "print(\"Difference in data usage between customers with and without a data plan:\\n\", data_usage_difference)"
   ]
  },
  {
   "cell_type": "markdown",
   "metadata": {},
   "source": [
    "- <span style=\"color:green\"> Customers with a data plan use an average of approximately 2.39 GB of data, while those without a data plan use no data on average </span>"
   ]
  },
  {
   "cell_type": "markdown",
   "metadata": {},
   "source": [
    "##### 6. What is the total revenue from customers who have a data plan and used greater than 3 GB of data"
   ]
  },
  {
   "cell_type": "code",
   "execution_count": 27,
   "metadata": {},
   "outputs": [
    {
     "name": "stdout",
     "output_type": "stream",
     "text": [
      "Total revenue from customers with a data plan and used > 3 GB of data: 1131.8\n"
     ]
    }
   ],
   "source": [
    "total_revenue_data_plan_gt_3gb = (data['MonthlyCharge'] + data['OverageFee']).loc[(data['Data_Plan'] == True) & (data['Data_Usage'] > 3)].sum()\n",
    "print(\"Total revenue from customers with a data plan and used > 3 GB of data:\", total_revenue_data_plan_gt_3gb)"
   ]
  },
  {
   "cell_type": "markdown",
   "metadata": {},
   "source": [
    "- <span style=\"color:Green\"> The Total revenue from customers with a data plan and used more then 3 GB of data is $ 1131.8 </span>"
   ]
  },
  {
   "cell_type": "markdown",
   "metadata": {},
   "source": [
    "##### 7. What % of total revenue comes from customers who do not have a data plan?"
   ]
  },
  {
   "cell_type": "code",
   "execution_count": 28,
   "metadata": {},
   "outputs": [
    {
     "name": "stdout",
     "output_type": "stream",
     "text": [
      "1036.25\n"
     ]
    }
   ],
   "source": [
    "#total revenue from customers without a data plan\n",
    "total_revenue_no_data_plan = (data['MonthlyCharge'] + data['OverageFee']).loc[data['Data_Plan'] == False].sum()\n",
    "print(total_revenue_no_data_plan)"
   ]
  },
  {
   "cell_type": "code",
   "execution_count": 29,
   "metadata": {},
   "outputs": [
    {
     "name": "stdout",
     "output_type": "stream",
     "text": [
      "% of total revenue from customers who do not have a data plan: 47.796406909434744\n"
     ]
    }
   ],
   "source": [
    "# percentage of total revenue from customers without a data plan\n",
    "percentage_revenue_no_data_plan = (total_revenue_no_data_plan / (total_revenue_no_data_plan + total_revenue_data_plan_gt_3gb)) * 100\n",
    "print(\"% of total revenue from customers who do not have a data plan:\", percentage_revenue_no_data_plan)"
   ]
  },
  {
   "cell_type": "markdown",
   "metadata": {},
   "source": [
    "- <span style=\"color:Green\"> The percentage of total revenue from customers who do not have a data plan is approximately 47.79% and the total revenue generated from customers with no data plan is $1036.25 </span>"
   ]
  },
  {
   "cell_type": "markdown",
   "metadata": {},
   "source": [
    "##### 8. What is the ratio of total revenue between customers who have a data plan and those who do not?"
   ]
  },
  {
   "cell_type": "code",
   "execution_count": 30,
   "metadata": {},
   "outputs": [
    {
     "name": "stdout",
     "output_type": "stream",
     "text": [
      "1036.25\n"
     ]
    }
   ],
   "source": [
    "#  total revenue from customers without a data plan\n",
    "total_revenue_no_data_plan = (data['MonthlyCharge'] + data['OverageFee']).loc[data['Data_Plan'] == False].sum()\n",
    "print(total_revenue_no_data_plan)"
   ]
  },
  {
   "cell_type": "code",
   "execution_count": 31,
   "metadata": {},
   "outputs": [
    {
     "name": "stdout",
     "output_type": "stream",
     "text": [
      "8065.36046511628\n"
     ]
    }
   ],
   "source": [
    "# Calculating total revenue from customers with a data plan\n",
    "total_revenue_data_plan = (data['MonthlyCharge'] + data['OverageFee']).loc[data['Data_Plan'] == True].sum()\n",
    "print(total_revenue_data_plan)"
   ]
  },
  {
   "cell_type": "code",
   "execution_count": 45,
   "metadata": {},
   "outputs": [
    {
     "name": "stdout",
     "output_type": "stream",
     "text": [
      "Ratio : 7.783218784189414\n"
     ]
    }
   ],
   "source": [
    "# Calculating the ratio of total revenuee between customers with and without a data plan\n",
    "revenue_ratio = total_revenue_data_plan / total_revenue_no_data_plan\n",
    "print(\"Ratio :\", revenue_ratio)"
   ]
  },
  {
   "cell_type": "markdown",
   "metadata": {},
   "source": [
    "- <span style=\"color:Green\"> This ratio indicates that the total revenue from customers with a data plan is about 7.783 times higher than the total revenue from customers without a data plan. </span>"
   ]
  },
  {
   "cell_type": "markdown",
   "metadata": {},
   "source": [
    "##### 9. How many customers have a renewed contract? Are customers with a data plan less likely to renew their contract vs customers with no data plan?"
   ]
  },
  {
   "cell_type": "code",
   "execution_count": 33,
   "metadata": {},
   "outputs": [],
   "source": [
    "#number of customers with renewed contracts\n",
    "renewed_customers = data.loc[data['Contract_Renewal'], 'Customer_ID'].nunique()\n",
    "\n",
    "#number of customers with renewed contracts and a data plan\n",
    "data_plan_renewed_customers = data.loc[data['Data_Plan'] & data['Contract_Renewal'], 'Customer_ID'].nunique()\n",
    "\n",
    "# number of customers with renewed contracts and no data plan\n",
    "no_data_plan_renewed_customers = data.loc[~data['Data_Plan'] & data['Contract_Renewal'], 'Customer_ID'].nunique()\n"
   ]
  },
  {
   "cell_type": "code",
   "execution_count": 34,
   "metadata": {},
   "outputs": [],
   "source": [
    "# percentage of customers with a data plan who renewed their contract\n",
    "percentage_data_plan_renewed = (data_plan_renewed_customers / data['Data_Plan'].sum()) * 100\n",
    "# the percentage of customers with no data plan who renewed their contract\n",
    "percentage_no_data_plan_renewed = (no_data_plan_renewed_customers / (~data['Data_Plan']).sum()) * 100"
   ]
  },
  {
   "cell_type": "code",
   "execution_count": 35,
   "metadata": {},
   "outputs": [
    {
     "name": "stdout",
     "output_type": "stream",
     "text": [
      "Number of customers with renewed contract: 120\n",
      "Number of customers with a data plan who renewed their contract: 110\n",
      "Number of customers with no data plan who renewed their contract: 10\n",
      "% of customers with a data plan who renewed their contract: 98.21428571428571\n",
      "% of customers with no data plan who renewed their contract: 55.55555555555556\n"
     ]
    }
   ],
   "source": [
    "print(\"Number of customers with renewed contract:\", renewed_customers)\n",
    "print(\"Number of customers with a data plan who renewed their contract:\", data_plan_renewed_customers)\n",
    "print(\"Number of customers with no data plan who renewed their contract:\", no_data_plan_renewed_customers)\n",
    "print(\"% of customers with a data plan who renewed their contract:\", percentage_data_plan_renewed)\n",
    "print(\"% of customers with no data plan who renewed their contract:\", percentage_no_data_plan_renewed)"
   ]
  },
  {
   "cell_type": "markdown",
   "metadata": {},
   "source": [
    "- <span style=\"color:Green\"> Out of 120 customers with renewed contracts, 110 have a data plan (98.21% renewal rate), while only 10 do not have a data plan (55.55% renewal rate). </span>"
   ]
  },
  {
   "cell_type": "markdown",
   "metadata": {},
   "source": [
    "##### 10. What is the % of Overage Fees to Total Revenue? What is this ratio for customers with no data plan, customers using 1-3 GB of data and customers using greater than 3 GB of data?"
   ]
  },
  {
   "cell_type": "code",
   "execution_count": 36,
   "metadata": {},
   "outputs": [
    {
     "name": "stdout",
     "output_type": "stream",
     "text": [
      "% of Overage Fees to Total Revenue: 14.928676690874413\n"
     ]
    }
   ],
   "source": [
    "# Calculatign total revenue\n",
    "total_revenue = data['MonthlyCharge'].sum() + data['OverageFee'].sum()\n",
    "# Calculating total overage fees\n",
    "total_overage_fees = data['OverageFee'].sum()\n",
    "#  the percentage of overage fees to the total revenue\n",
    "percentage_overage_fees_to_revenue = (total_overage_fees / total_revenue) * 100\n",
    "\n",
    "print(\"% of Overage Fees to Total Revenue:\", percentage_overage_fees_to_revenue)"
   ]
  },
  {
   "cell_type": "markdown",
   "metadata": {},
   "source": [
    "- <span style=\"color:Green\"> The percentage of overage fees to total revenue is 14.93%. </span> "
   ]
  },
  {
   "cell_type": "markdown",
   "metadata": {},
   "source": [
    "##### 11. Do customers with weeks more than 50 have a lower minute per call ratio or customers with weeks between 31 and 50 ?"
   ]
  },
  {
   "cell_type": "code",
   "execution_count": 37,
   "metadata": {},
   "outputs": [
    {
     "name": "stdout",
     "output_type": "stream",
     "text": [
      "1.862611717974181\n",
      "1.9277768385460692\n"
     ]
    }
   ],
   "source": [
    "average_minute_per_call_weeks_50_plus = data['DayMins'].loc[data['Weeks'] > 50].mean() / data['DayCalls'].loc[data['Weeks'] > 50].mean()\n",
    "average_minute_per_call_weeks_31_50 = data['DayMins'].loc[(data['Weeks'] >= 31) & (data['Weeks'] <= 50)].mean() / data['DayCalls'].loc[(data['Weeks'] >= 31) & (data['Weeks'] <= 50)].mean()\n",
    "print(average_minute_per_call_weeks_31_50)\n",
    "print(average_minute_per_call_weeks_50_plus)"
   ]
  },
  {
   "cell_type": "code",
   "execution_count": 38,
   "metadata": {},
   "outputs": [
    {
     "name": "stdout",
     "output_type": "stream",
     "text": [
      "Customers with weeks between 31 and 50 have a lower minute per call ratio.\n"
     ]
    }
   ],
   "source": [
    "if average_minute_per_call_weeks_50_plus < average_minute_per_call_weeks_31_50:\n",
    "    print(\"Customers with weeks more than 50 have a lower minute per call ratio.\")\n",
    "else:\n",
    "    print(\"Customers with weeks between 31 and 50 have a lower minute per call ratio.\")"
   ]
  },
  {
   "cell_type": "markdown",
   "metadata": {},
   "source": [
    "- <span style=\"color:Green\"> The customers with weeks between 31 and 50 have a lower minute per call ratio. </span>"
   ]
  },
  {
   "cell_type": "markdown",
   "metadata": {},
   "source": [
    "##### 12. What is the average overage fee for customers whose contracts are more than 30 weeks old and have a data plan and have used less than 1GB of data?"
   ]
  },
  {
   "cell_type": "code",
   "execution_count": 39,
   "metadata": {},
   "outputs": [
    {
     "name": "stdout",
     "output_type": "stream",
     "text": [
      "Average overage fee for eligible customers: nan\n"
     ]
    }
   ],
   "source": [
    "average_overage_fee = data['OverageFee'].loc[(data['Weeks'] > 30) & (data['Data_Plan'] == 'Yes') & (data['Data_Usage'] < 1)].mean()\n",
    "print(\"Average overage fee for eligible customers:\", average_overage_fee)"
   ]
  },
  {
   "cell_type": "markdown",
   "metadata": {},
   "source": [
    "- <span style=\"color:Green\">There are no eligible customers to calculate the average overage fee. </span>"
   ]
  },
  {
   "cell_type": "markdown",
   "metadata": {},
   "source": [
    "##### 13. What is the average monthly charge for customers whose contracts are more than 50 weeks old and have a data plan and have renewed their contract?"
   ]
  },
  {
   "cell_type": "code",
   "execution_count": 40,
   "metadata": {},
   "outputs": [],
   "source": [
    "# Filtered the data for customers whose contracts are more than 50 weeks old, have a data plan, and have renewed their contract\n",
    "filtered_customers = data[(data['Weeks'] > 50) & (data['Data_Plan']) & (data['Contract_Renewal'] == True)]"
   ]
  },
  {
   "cell_type": "code",
   "execution_count": 41,
   "metadata": {},
   "outputs": [
    {
     "name": "stdout",
     "output_type": "stream",
     "text": [
      "62.00680122860904\n"
     ]
    }
   ],
   "source": [
    "# Calculated the average monthly charge whose contracts are more than 50 weeks\n",
    "average_monthly_charge = filtered_customers['MonthlyCharge'].mean()\n",
    "print(average_monthly_charge)"
   ]
  },
  {
   "cell_type": "markdown",
   "metadata": {},
   "source": [
    "- <span style=\"color:Green\">The average monthly charge for customers whose contracts are more than 50 weeks old, have a data plan, and have renewed their contract is 62.00</span>"
   ]
  },
  {
   "cell_type": "markdown",
   "metadata": {},
   "source": [
    "##### 14. What is the average roam minutes for customers whose contracts are between 31-50 weeks and have a data plan and have used greater than 3GB of data?"
   ]
  },
  {
   "cell_type": "code",
   "execution_count": 42,
   "metadata": {},
   "outputs": [
    {
     "name": "stdout",
     "output_type": "stream",
     "text": [
      "9.955555555555556\n"
     ]
    }
   ],
   "source": [
    "filtered_customers = data[(data['Weeks'] >= 31) & (data['Weeks'] <= 50) & (data['Data_Plan']) & (data['Data_Usage'] > 3)]\n",
    "\n",
    "# Calculated the average roam minutes \n",
    "average_roam_minutes = filtered_customers['RoamMins'].mean()\n",
    "\n",
    "print(average_roam_minutes)"
   ]
  },
  {
   "cell_type": "markdown",
   "metadata": {},
   "source": [
    "- <span style=\"color:Green\"> Average roam minutes for customers whose contracts are between 31-50 weeks old, have a data plan, and have used greater than 3GB of data is 9.95 </span>"
   ]
  },
  {
   "cell_type": "markdown",
   "metadata": {},
   "source": [
    "##### 15. What is the average data usage for customers whose contracts are more than 30 weeks old and have renewed their contract?"
   ]
  },
  {
   "cell_type": "code",
   "execution_count": 43,
   "metadata": {},
   "outputs": [],
   "source": [
    "# Filtering the Data for customers whose contracts are more than 30 weeks old and have renewed their contract\n",
    "filtered_customers = data[(data['Weeks'] > 30) & (data['Contract_Renewal'] == True)]"
   ]
  },
  {
   "cell_type": "code",
   "execution_count": 44,
   "metadata": {},
   "outputs": [
    {
     "name": "stdout",
     "output_type": "stream",
     "text": [
      "2.2585585585585584\n"
     ]
    }
   ],
   "source": [
    "# Calculating the average data usage\n",
    "average_data_usage = filtered_customers['Data_Usage'].mean()\n",
    "print(average_data_usage)"
   ]
  },
  {
   "cell_type": "markdown",
   "metadata": {},
   "source": [
    "- <span style=\"color:Green\"> Average data usage for customers whose contracts are more than 30 weeks old and have renewed their contract is 2.258</span>"
   ]
  }
 ],
 "metadata": {
  "kernelspec": {
   "display_name": "base",
   "language": "python",
   "name": "python3"
  },
  "language_info": {
   "codemirror_mode": {
    "name": "ipython",
    "version": 3
   },
   "file_extension": ".py",
   "mimetype": "text/x-python",
   "name": "python",
   "nbconvert_exporter": "python",
   "pygments_lexer": "ipython3",
   "version": "undefined.undefined.undefined"
  }
 },
 "nbformat": 4,
 "nbformat_minor": 2
}
